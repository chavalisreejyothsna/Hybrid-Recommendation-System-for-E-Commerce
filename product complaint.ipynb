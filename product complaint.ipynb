{
 "cells": [
  {
   "cell_type": "code",
   "execution_count": 1,
   "id": "1e86f4e6-6534-42c5-bbea-e5a58a486d53",
   "metadata": {},
   "outputs": [
    {
     "name": "stderr",
     "output_type": "stream",
     "text": [
      "C:\\Users\\91949\\anaconda3\\lib\\site-packages\\numpy\\_distributor_init.py:30: UserWarning: loaded more than 1 DLL from .libs:\n",
      "C:\\Users\\91949\\anaconda3\\lib\\site-packages\\numpy\\.libs\\libopenblas.4SP5SUA7CBGXUEOC35YP2ASOICYYEQZZ.gfortran-win_amd64.dll\n",
      "C:\\Users\\91949\\anaconda3\\lib\\site-packages\\numpy\\.libs\\libopenblas.JPIJNSWNNAN3CE6LLI5FWSPHUT2VXMTH.gfortran-win_amd64.dll\n",
      "  warnings.warn(\"loaded more than 1 DLL from .libs:\"\n"
     ]
    }
   ],
   "source": [
    "import nltk\n",
    "from nltk.sentiment.vader import SentimentIntensityAnalyzer"
   ]
  },
  {
   "cell_type": "code",
   "execution_count": 2,
   "id": "9f3cbf9e-9ece-441d-abee-3fd4974bf78e",
   "metadata": {},
   "outputs": [
    {
     "name": "stderr",
     "output_type": "stream",
     "text": [
      "[nltk_data] Downloading package vader_lexicon to\n",
      "[nltk_data]     C:\\Users\\91949\\AppData\\Roaming\\nltk_data...\n"
     ]
    },
    {
     "data": {
      "text/plain": [
       "True"
      ]
     },
     "execution_count": 2,
     "metadata": {},
     "output_type": "execute_result"
    }
   ],
   "source": [
    "nltk.download('vader_lexicon')"
   ]
  },
  {
   "cell_type": "code",
   "execution_count": 3,
   "id": "23e3daf0-c449-4205-9302-411f5c5593c8",
   "metadata": {},
   "outputs": [],
   "source": [
    "analyzer = SentimentIntensityAnalyzer()"
   ]
  },
  {
   "cell_type": "code",
   "execution_count": 4,
   "id": "d1ffc174-58d7-4927-aa4b-c03e7b5e17c1",
   "metadata": {},
   "outputs": [],
   "source": [
    "def analyze_complaint(complaint):\n",
    "    scores = analyzer.polarity_scores(complaint)\n",
    "    return scores"
   ]
  },
  {
   "cell_type": "code",
   "execution_count": 6,
   "id": "8506f86e-a362-4e3a-80ee-f086e9004f54",
   "metadata": {},
   "outputs": [],
   "source": [
    "complaint = \"The service was terrible, and the product is faulty.\"\n",
    "scores = analyze_complaint(complaint)"
   ]
  },
  {
   "cell_type": "code",
   "execution_count": 7,
   "id": "c8a41c9a-f58e-405f-b8c3-e4dd61a8709a",
   "metadata": {},
   "outputs": [
    {
     "name": "stdout",
     "output_type": "stream",
     "text": [
      "Positive: 0.0\n",
      "Negative: 0.435\n",
      "Neutral: 0.565\n",
      "Compound: -0.6597\n"
     ]
    }
   ],
   "source": [
    "print(\"Positive:\", scores['pos'])\n",
    "print(\"Negative:\", scores['neg'])\n",
    "print(\"Neutral:\", scores['neu'])\n",
    "print(\"Compound:\", scores['compound'])"
   ]
  },
  {
   "cell_type": "code",
   "execution_count": 8,
   "id": "5e088adf-1bc3-4c62-b335-0fa1dc849560",
   "metadata": {},
   "outputs": [
    {
     "name": "stdout",
     "output_type": "stream",
     "text": [
      "Sentiment: Negative\n"
     ]
    }
   ],
   "source": [
    "if scores['compound'] > 0.05:\n",
    "  print(\"Sentiment: Positive\")\n",
    "elif scores['compound'] < -0.05:\n",
    "  print(\"Sentiment: Negative\")\n",
    "else:\n",
    "  print(\"Sentiment: Neutral\")"
   ]
  },
  {
   "cell_type": "code",
   "execution_count": null,
   "id": "fb93efef-862f-476a-a3ba-fe5e73863f71",
   "metadata": {},
   "outputs": [],
   "source": []
  }
 ],
 "metadata": {
  "kernelspec": {
   "display_name": "Python 3 (ipykernel)",
   "language": "python",
   "name": "python3"
  },
  "language_info": {
   "codemirror_mode": {
    "name": "ipython",
    "version": 3
   },
   "file_extension": ".py",
   "mimetype": "text/x-python",
   "name": "python",
   "nbconvert_exporter": "python",
   "pygments_lexer": "ipython3",
   "version": "3.9.7"
  }
 },
 "nbformat": 4,
 "nbformat_minor": 5
}
